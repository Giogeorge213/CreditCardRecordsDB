{
 "cells": [
  {
   "cell_type": "code",
   "execution_count": 1,
   "id": "60294654-45ee-4d2b-8607-c4be31e382ad",
   "metadata": {},
   "outputs": [
    {
     "name": "stdout",
     "output_type": "stream",
     "text": [
      "Requirement already satisfied: pymysql in /opt/anaconda3/lib/python3.11/site-packages (1.1.1)\n",
      "Note: you may need to restart the kernel to use updated packages.\n"
     ]
    }
   ],
   "source": [
    "pip install pymysql"
   ]
  },
  {
   "cell_type": "code",
   "execution_count": 2,
   "id": "0386fe28-1ee5-4667-b8de-5f628bf6c5a8",
   "metadata": {},
   "outputs": [
    {
     "name": "stdout",
     "output_type": "stream",
     "text": [
      "Requirement already satisfied: mysql-connector-python in /opt/anaconda3/lib/python3.11/site-packages (9.0.0)\n",
      "Note: you may need to restart the kernel to use updated packages.\n"
     ]
    }
   ],
   "source": [
    "pip install mysql-connector-python"
   ]
  },
  {
   "cell_type": "code",
   "execution_count": 1,
   "id": "5c057576-3ac6-4c27-953c-b52aff7e7848",
   "metadata": {},
   "outputs": [],
   "source": [
    "import pandas as pd\n",
    "import numpy as np\n",
    "from sqlalchemy import create_engine"
   ]
  },
  {
   "cell_type": "code",
   "execution_count": 2,
   "id": "005cfebf-0916-4731-a0b9-181e242ffe16",
   "metadata": {},
   "outputs": [],
   "source": [
    "csv_files = [\n",
    "    {'file_path': '/Users/giorgioramirez/Desktop/CreditCardRecordsDB/AMEX_CSV/Plat23.csv', 'Card_Used': 'PLATINUM'},\n",
    "    {'file_path': '/Users/giorgioramirez/Desktop/CreditCardRecordsDB/AMEX_CSV/Plat24.csv', 'Card_Used': 'PLATINUM'},\n",
    "    {'file_path': '/Users/giorgioramirez/Desktop/CreditCardRecordsDB/AMEX_CSV/Hilton.csv', 'Card_Used': 'HILTON ASPIRE'},\n",
    "    {'file_path': '/Users/giorgioramirez/Desktop/CreditCardRecordsDB/AMEX_CSV/Gold24.csv', 'Card_Used': 'GOLD'},\n",
    "    {'file_path': '/Users/giorgioramirez/Desktop/CreditCardRecordsDB/AMEX_CSV/BizPlat24.csv', 'Card_Used': 'BUSINESS PLATINUM'},\n",
    "    {'file_path': '/Users/giorgioramirez/Desktop/CreditCardRecordsDB/AMEX_CSV/BizGold24.csv', 'Card_Used': 'BUSINESS GOLD'},\n",
    "    {'file_path': '/Users/giorgioramirez/Desktop/CreditCardRecordsDB/AMEX_CSV/BizGold23.csv', 'Card_Used': 'BUSINESS GOLD'},\n",
    "    {'file_path': '/Users/giorgioramirez/Desktop/CreditCardRecordsDB/AMEX_CSV/BBP22.csv', 'Card_Used': 'BLUE BUSINESS PLUS'},\n",
    "    {'file_path': '/Users/giorgioramirez/Desktop/CreditCardRecordsDB/AMEX_CSV/BBP23.csv', 'Card_Used': 'BLUE BUSINESS PLUS'},\n",
    "    {'file_path': '/Users/giorgioramirez/Desktop/CreditCardRecordsDB/AMEX_CSV/BBP24.csv', 'Card_Used': 'BLUE BUSINESS PLUS'},\n",
    "   ]"
   ]
  },
  {
   "cell_type": "markdown",
   "id": "9fd26f1f-e6fd-4489-9623-121324e32e16",
   "metadata": {},
   "source": [
    " Read csv files preprocess add to list"
   ]
  },
  {
   "cell_type": "code",
   "execution_count": 7,
   "id": "31b00446-2f24-4ad0-b0c6-f983dfaf23f2",
   "metadata": {},
   "outputs": [],
   "source": [
    "df_list = []\n",
    "\n",
    "for csv_info in csv_files:\n",
    "    df = pd.read_csv(csv_info['file_path'])\n",
    "    \n",
    "    df['Card_Used'] = csv_info['Card_Used']\n",
    "    \n",
    "    if 'City/State' in df.columns:\n",
    "        df[['City', 'State']] = df['City/State'].str.split('\\n', expand=True)\n",
    "        df.drop(columns=['City/State'], inplace=True)\n",
    "    \n",
    "    df = df.rename(columns={'Zip Code': 'Zip_Code'})\n",
    "    \n",
    "    df = df[['Date', 'Description', 'Amount', 'Address', 'City', 'State', 'Zip_Code', 'Country', 'Category', 'Card_Used']]\n",
    "    \n",
    "    df_list.append(df)"
   ]
  },
  {
   "cell_type": "markdown",
   "id": "8f4573a5-eaee-4dcf-a32a-47b2938bfe01",
   "metadata": {},
   "source": [
    "Convert list of dataframes to df"
   ]
  },
  {
   "cell_type": "code",
   "execution_count": 14,
   "id": "f6fd733b-fa6a-4010-b44a-fd715cfaf703",
   "metadata": {},
   "outputs": [],
   "source": [
    "df = pd.concat(df_list, ignore_index=True)"
   ]
  },
  {
   "cell_type": "code",
   "execution_count": 16,
   "id": "f7b91395-dfd0-4ff7-90e8-c696166beba1",
   "metadata": {},
   "outputs": [
    {
     "data": {
      "text/html": [
       "<div>\n",
       "<style scoped>\n",
       "    .dataframe tbody tr th:only-of-type {\n",
       "        vertical-align: middle;\n",
       "    }\n",
       "\n",
       "    .dataframe tbody tr th {\n",
       "        vertical-align: top;\n",
       "    }\n",
       "\n",
       "    .dataframe thead th {\n",
       "        text-align: right;\n",
       "    }\n",
       "</style>\n",
       "<table border=\"1\" class=\"dataframe\">\n",
       "  <thead>\n",
       "    <tr style=\"text-align: right;\">\n",
       "      <th></th>\n",
       "      <th>Date</th>\n",
       "      <th>Description</th>\n",
       "      <th>Amount</th>\n",
       "      <th>Address</th>\n",
       "      <th>City</th>\n",
       "      <th>State</th>\n",
       "      <th>Zip_Code</th>\n",
       "      <th>Country</th>\n",
       "      <th>Category</th>\n",
       "      <th>Card_Used</th>\n",
       "    </tr>\n",
       "  </thead>\n",
       "  <tbody>\n",
       "    <tr>\n",
       "      <th>0</th>\n",
       "      <td>12/27/2023</td>\n",
       "      <td>MOBILE PAYMENT - THANK YOU</td>\n",
       "      <td>-40.48</td>\n",
       "      <td>NaN</td>\n",
       "      <td>NaN</td>\n",
       "      <td>NaN</td>\n",
       "      <td>NaN</td>\n",
       "      <td>NaN</td>\n",
       "      <td>NaN</td>\n",
       "      <td>PLATINUM</td>\n",
       "    </tr>\n",
       "    <tr>\n",
       "      <th>1</th>\n",
       "      <td>12/27/2023</td>\n",
       "      <td>SAKS SAN ANTONIO 657SAN ANTONIO         TX</td>\n",
       "      <td>50.00</td>\n",
       "      <td>7400 SAN PEDRO AVE STE 650</td>\n",
       "      <td>SAN ANTONIO</td>\n",
       "      <td>78216</td>\n",
       "      <td>TX</td>\n",
       "      <td>UNITED STATES</td>\n",
       "      <td>Merchandise &amp; Supplies-Department Stores</td>\n",
       "      <td>PLATINUM</td>\n",
       "    </tr>\n",
       "    <tr>\n",
       "      <th>2</th>\n",
       "      <td>12/24/2023</td>\n",
       "      <td>DISNEY PLUS         BURBANK             CA</td>\n",
       "      <td>26.98</td>\n",
       "      <td>500 SOUTH BUENA VIS ST</td>\n",
       "      <td>BURBANK</td>\n",
       "      <td>91521</td>\n",
       "      <td>CA</td>\n",
       "      <td>UNITED STATES</td>\n",
       "      <td>Business Services-Office Supplies</td>\n",
       "      <td>PLATINUM</td>\n",
       "    </tr>\n",
       "    <tr>\n",
       "      <th>3</th>\n",
       "      <td>12/24/2023</td>\n",
       "      <td>DISNEY PLUS ADY     BURBANK</td>\n",
       "      <td>-20.00</td>\n",
       "      <td>500 SOUTH BUENA VIS ST</td>\n",
       "      <td>BURBANK</td>\n",
       "      <td>91521</td>\n",
       "      <td>CA</td>\n",
       "      <td>UNITED STATES</td>\n",
       "      <td>Business Services-Office Supplies</td>\n",
       "      <td>PLATINUM</td>\n",
       "    </tr>\n",
       "    <tr>\n",
       "      <th>4</th>\n",
       "      <td>12/13/2023</td>\n",
       "      <td>WALMART PLUS MONTHLYBENTONVILLE</td>\n",
       "      <td>-12.95</td>\n",
       "      <td>702 SOUTH WEST 8TH ST</td>\n",
       "      <td>BENTONVILLE</td>\n",
       "      <td>72712</td>\n",
       "      <td>AR</td>\n",
       "      <td>UNITED STATES</td>\n",
       "      <td>Merchandise &amp; Supplies-Internet Purchase</td>\n",
       "      <td>PLATINUM</td>\n",
       "    </tr>\n",
       "  </tbody>\n",
       "</table>\n",
       "</div>"
      ],
      "text/plain": [
       "         Date                                 Description  Amount  \\\n",
       "0  12/27/2023                  MOBILE PAYMENT - THANK YOU  -40.48   \n",
       "1  12/27/2023  SAKS SAN ANTONIO 657SAN ANTONIO         TX   50.00   \n",
       "2  12/24/2023  DISNEY PLUS         BURBANK             CA   26.98   \n",
       "3  12/24/2023                 DISNEY PLUS ADY     BURBANK  -20.00   \n",
       "4  12/13/2023             WALMART PLUS MONTHLYBENTONVILLE  -12.95   \n",
       "\n",
       "                      Address         City  State Zip_Code        Country  \\\n",
       "0                         NaN          NaN    NaN      NaN            NaN   \n",
       "1  7400 SAN PEDRO AVE STE 650  SAN ANTONIO  78216       TX  UNITED STATES   \n",
       "2      500 SOUTH BUENA VIS ST      BURBANK  91521       CA  UNITED STATES   \n",
       "3      500 SOUTH BUENA VIS ST      BURBANK  91521       CA  UNITED STATES   \n",
       "4       702 SOUTH WEST 8TH ST  BENTONVILLE  72712       AR  UNITED STATES   \n",
       "\n",
       "                                   Category Card_Used  \n",
       "0                                       NaN  PLATINUM  \n",
       "1  Merchandise & Supplies-Department Stores  PLATINUM  \n",
       "2         Business Services-Office Supplies  PLATINUM  \n",
       "3         Business Services-Office Supplies  PLATINUM  \n",
       "4  Merchandise & Supplies-Internet Purchase  PLATINUM  "
      ]
     },
     "execution_count": 16,
     "metadata": {},
     "output_type": "execute_result"
    }
   ],
   "source": [
    "df.head()"
   ]
  },
  {
   "cell_type": "code",
   "execution_count": 18,
   "id": "c3c31d44-980b-493a-92bb-3fa6a361808a",
   "metadata": {},
   "outputs": [
    {
     "data": {
      "text/plain": [
       "array([nan, 'Merchandise & Supplies-Department Stores',\n",
       "       'Business Services-Office Supplies',\n",
       "       'Merchandise & Supplies-Internet Purchase', 'Travel-Airline',\n",
       "       'Entertainment-General Attractions',\n",
       "       'Transportation-Taxis & Coach', 'Travel-Lodging',\n",
       "       'Restaurant-Bar & Café', 'Other-Government Services',\n",
       "       'Travel-Travel Agencies',\n",
       "       'Merchandise & Supplies-Electronics Stores', 'Other-Miscellaneous',\n",
       "       'Merchandise & Supplies-General Retail',\n",
       "       'Merchandise & Supplies-Groceries', 'Restaurant-Restaurant',\n",
       "       'Business Services-Health Care Services',\n",
       "       'Fees & Adjustments-Fees & Adjustments', 'Other-Education',\n",
       "       'Business Services-Mailing & Shipping', 'Transportation-Fuel',\n",
       "       'Merchandise & Supplies-Wholesale Stores',\n",
       "       'Transportation-Auto Services', 'Business Services-Other Services',\n",
       "       'Merchandise & Supplies-Clothing Stores',\n",
       "       'Entertainment-Associations',\n",
       "       'Communications-Cable & Internet Comm',\n",
       "       'Transportation-Other Transportation',\n",
       "       'Entertainment-Other Entertainment',\n",
       "       'Business Services-Insurance Services',\n",
       "       'Merchandise & Supplies-Computer Supplies',\n",
       "       'Entertainment-General Events', 'Transportation-Rail Services',\n",
       "       'Merchandise & Supplies-Pharmacies',\n",
       "       'Communications-Telephone Comm',\n",
       "       'Business Services-Professional Services',\n",
       "       'Business Services-Internet Services',\n",
       "       'Transportation-Parking Charges',\n",
       "       'Merchandise & Supplies-Sporting Goods Stores',\n",
       "       'Merchandise & Supplies-Mail Order', 'Other-Charities'],\n",
       "      dtype=object)"
      ]
     },
     "execution_count": 18,
     "metadata": {},
     "output_type": "execute_result"
    }
   ],
   "source": [
    "df['Category'].unique()"
   ]
  },
  {
   "cell_type": "markdown",
   "id": "4553009a-7628-4fac-9ed4-fded19e48674",
   "metadata": {},
   "source": [
    "Reversed mapping dictionary with simplified category as a key and original categories as a list of values to consolidate categories. Customized certain categories based on known credit card specific earnings. List comprehension to map the list values to their keys."
   ]
  },
  {
   "cell_type": "code",
   "execution_count": 21,
   "id": "eff82218-5904-4e88-aab9-ec0992c32ea7",
   "metadata": {},
   "outputs": [],
   "source": [
    "simplified_category_mapping = {\n",
    "    'Retail': [\n",
    "        'Merchandise & Supplies-Department Stores',\n",
    "        'Merchandise & Supplies-Internet Purchase',\n",
    "        'Merchandise & Supplies-Electronics Stores',\n",
    "        'Merchandise & Supplies-General Retail',\n",
    "        'Merchandise & Supplies-Wholesale Stores',\n",
    "        'Merchandise & Supplies-Clothing Stores',\n",
    "        'Merchandise & Supplies-Computer Supplies',\n",
    "        'Merchandise & Supplies-Pharmacies',\n",
    "        'Merchandise & Supplies-Mail Order',\n",
    "        'Merchandise & Supplies-Sporting Goods Stores'\n",
    "    ],\n",
    "    'Business_Services': [\n",
    "        'Business Services-Office Supplies',\n",
    "        'Business Services-Health Care Services',\n",
    "        'Business Services-Mailing & Shipping',\n",
    "        'Business Services-Other Services',\n",
    "        'Business Services-Insurance Services',\n",
    "        'Business Services-Professional Services',\n",
    "        'Business Services-Internet Services'\n",
    "    ],\n",
    "    'Travel_Airline': [\n",
    "        'Travel-Airline'\n",
    "    ],\n",
    "    'Travel': [\n",
    "        'Travel-Lodging',\n",
    "        'Travel-Travel Agencies'\n",
    "    ],\n",
    "    'Dining': [\n",
    "        'Restaurant-Bar & Café',\n",
    "        'Restaurant-Restaurant'\n",
    "    ],\n",
    "    'Transportation': [\n",
    "        'Transportation-Taxis & Coach',\n",
    "        'Transportation-Auto Services',\n",
    "        'Transportation-Other Transportation',\n",
    "        'Transportation-Rail Services',\n",
    "        'Transportation-Parking Charges'\n",
    "    ],\n",
    "    'Fuel': [\n",
    "        'Transportation-Fuel'\n",
    "    ],\n",
    "    'Entertainment': [\n",
    "        'Entertainment-General Attractions',\n",
    "        'Entertainment-Associations',\n",
    "        'Entertainment-Other Entertainment',\n",
    "        'Entertainment-General Events'\n",
    "    ],\n",
    "    'Communications': [\n",
    "        'Communications-Cable & Internet Comm',\n",
    "        'Communications-Telephone Comm'\n",
    "    ],\n",
    "    'Miscellaneous': [\n",
    "        'Other-Government Services',\n",
    "        'Other-Miscellaneous',\n",
    "        'Other-Education',\n",
    "        'Other-Charities',\n",
    "        'Fees & Adjustments-Fees & Adjustments'\n",
    "    ],\n",
    "    'Groceries': [\n",
    "        'Merchandise & Supplies-Groceries'\n",
    "    ]\n",
    "}\n",
    "\n",
    "reverse_mapping = {item: simplified for simplified, items in simplified_category_mapping.items() for item in items}"
   ]
  },
  {
   "cell_type": "markdown",
   "id": "56a2f080-7104-4f31-a48a-6947c99f2667",
   "metadata": {},
   "source": [
    "Create new Categories column and drop old one."
   ]
  },
  {
   "cell_type": "code",
   "execution_count": 27,
   "id": "670f3def-e44d-4aa5-a197-10edcda00df6",
   "metadata": {},
   "outputs": [],
   "source": [
    "df['Standardized_Category'] = df['Category'].map(reverse_mapping).fillna('Unknown')"
   ]
  },
  {
   "cell_type": "code",
   "execution_count": 29,
   "id": "aeaff321-09a4-4bf1-b504-50338b888eb0",
   "metadata": {},
   "outputs": [
    {
     "data": {
      "text/html": [
       "<div>\n",
       "<style scoped>\n",
       "    .dataframe tbody tr th:only-of-type {\n",
       "        vertical-align: middle;\n",
       "    }\n",
       "\n",
       "    .dataframe tbody tr th {\n",
       "        vertical-align: top;\n",
       "    }\n",
       "\n",
       "    .dataframe thead th {\n",
       "        text-align: right;\n",
       "    }\n",
       "</style>\n",
       "<table border=\"1\" class=\"dataframe\">\n",
       "  <thead>\n",
       "    <tr style=\"text-align: right;\">\n",
       "      <th></th>\n",
       "      <th>Date</th>\n",
       "      <th>Description</th>\n",
       "      <th>Amount</th>\n",
       "      <th>Address</th>\n",
       "      <th>City</th>\n",
       "      <th>State</th>\n",
       "      <th>Zip_Code</th>\n",
       "      <th>Country</th>\n",
       "      <th>Category</th>\n",
       "      <th>Card_Used</th>\n",
       "      <th>Standardized_Category</th>\n",
       "    </tr>\n",
       "  </thead>\n",
       "  <tbody>\n",
       "    <tr>\n",
       "      <th>0</th>\n",
       "      <td>12/27/2023</td>\n",
       "      <td>MOBILE PAYMENT - THANK YOU</td>\n",
       "      <td>-40.48</td>\n",
       "      <td>NaN</td>\n",
       "      <td>NaN</td>\n",
       "      <td>NaN</td>\n",
       "      <td>NaN</td>\n",
       "      <td>NaN</td>\n",
       "      <td>NaN</td>\n",
       "      <td>PLATINUM</td>\n",
       "      <td>Unknown</td>\n",
       "    </tr>\n",
       "    <tr>\n",
       "      <th>1</th>\n",
       "      <td>12/27/2023</td>\n",
       "      <td>SAKS SAN ANTONIO 657SAN ANTONIO         TX</td>\n",
       "      <td>50.00</td>\n",
       "      <td>7400 SAN PEDRO AVE STE 650</td>\n",
       "      <td>SAN ANTONIO</td>\n",
       "      <td>78216</td>\n",
       "      <td>TX</td>\n",
       "      <td>UNITED STATES</td>\n",
       "      <td>Merchandise &amp; Supplies-Department Stores</td>\n",
       "      <td>PLATINUM</td>\n",
       "      <td>Retail</td>\n",
       "    </tr>\n",
       "    <tr>\n",
       "      <th>2</th>\n",
       "      <td>12/24/2023</td>\n",
       "      <td>DISNEY PLUS         BURBANK             CA</td>\n",
       "      <td>26.98</td>\n",
       "      <td>500 SOUTH BUENA VIS ST</td>\n",
       "      <td>BURBANK</td>\n",
       "      <td>91521</td>\n",
       "      <td>CA</td>\n",
       "      <td>UNITED STATES</td>\n",
       "      <td>Business Services-Office Supplies</td>\n",
       "      <td>PLATINUM</td>\n",
       "      <td>Business_Services</td>\n",
       "    </tr>\n",
       "    <tr>\n",
       "      <th>3</th>\n",
       "      <td>12/24/2023</td>\n",
       "      <td>DISNEY PLUS ADY     BURBANK</td>\n",
       "      <td>-20.00</td>\n",
       "      <td>500 SOUTH BUENA VIS ST</td>\n",
       "      <td>BURBANK</td>\n",
       "      <td>91521</td>\n",
       "      <td>CA</td>\n",
       "      <td>UNITED STATES</td>\n",
       "      <td>Business Services-Office Supplies</td>\n",
       "      <td>PLATINUM</td>\n",
       "      <td>Business_Services</td>\n",
       "    </tr>\n",
       "    <tr>\n",
       "      <th>4</th>\n",
       "      <td>12/13/2023</td>\n",
       "      <td>WALMART PLUS MONTHLYBENTONVILLE</td>\n",
       "      <td>-12.95</td>\n",
       "      <td>702 SOUTH WEST 8TH ST</td>\n",
       "      <td>BENTONVILLE</td>\n",
       "      <td>72712</td>\n",
       "      <td>AR</td>\n",
       "      <td>UNITED STATES</td>\n",
       "      <td>Merchandise &amp; Supplies-Internet Purchase</td>\n",
       "      <td>PLATINUM</td>\n",
       "      <td>Retail</td>\n",
       "    </tr>\n",
       "  </tbody>\n",
       "</table>\n",
       "</div>"
      ],
      "text/plain": [
       "         Date                                 Description  Amount  \\\n",
       "0  12/27/2023                  MOBILE PAYMENT - THANK YOU  -40.48   \n",
       "1  12/27/2023  SAKS SAN ANTONIO 657SAN ANTONIO         TX   50.00   \n",
       "2  12/24/2023  DISNEY PLUS         BURBANK             CA   26.98   \n",
       "3  12/24/2023                 DISNEY PLUS ADY     BURBANK  -20.00   \n",
       "4  12/13/2023             WALMART PLUS MONTHLYBENTONVILLE  -12.95   \n",
       "\n",
       "                      Address         City  State Zip_Code        Country  \\\n",
       "0                         NaN          NaN    NaN      NaN            NaN   \n",
       "1  7400 SAN PEDRO AVE STE 650  SAN ANTONIO  78216       TX  UNITED STATES   \n",
       "2      500 SOUTH BUENA VIS ST      BURBANK  91521       CA  UNITED STATES   \n",
       "3      500 SOUTH BUENA VIS ST      BURBANK  91521       CA  UNITED STATES   \n",
       "4       702 SOUTH WEST 8TH ST  BENTONVILLE  72712       AR  UNITED STATES   \n",
       "\n",
       "                                   Category Card_Used Standardized_Category  \n",
       "0                                       NaN  PLATINUM               Unknown  \n",
       "1  Merchandise & Supplies-Department Stores  PLATINUM                Retail  \n",
       "2         Business Services-Office Supplies  PLATINUM     Business_Services  \n",
       "3         Business Services-Office Supplies  PLATINUM     Business_Services  \n",
       "4  Merchandise & Supplies-Internet Purchase  PLATINUM                Retail  "
      ]
     },
     "execution_count": 29,
     "metadata": {},
     "output_type": "execute_result"
    }
   ],
   "source": [
    "df.head()"
   ]
  },
  {
   "cell_type": "code",
   "execution_count": 31,
   "id": "32bd49d2-470b-4823-899b-414a53483f1c",
   "metadata": {},
   "outputs": [],
   "source": [
    "df = df.drop(columns=['Category'])\n",
    "df = df.rename(columns={'Standardized_Category': 'Category'})"
   ]
  },
  {
   "cell_type": "code",
   "execution_count": 43,
   "id": "3e2c3770-70e5-41ad-93b0-521965392fc1",
   "metadata": {},
   "outputs": [
    {
     "data": {
      "text/plain": [
       "array(['BLUE BUSINESS PLUS', 'HILTON ASPIRE', 'PLATINUM', 'BUSINESS GOLD',\n",
       "       'GOLD', 'BUSINESS PLATINUM'], dtype=object)"
      ]
     },
     "execution_count": 43,
     "metadata": {},
     "output_type": "execute_result"
    }
   ],
   "source": [
    "df['Category'].unique()"
   ]
  },
  {
   "cell_type": "code",
   "execution_count": 45,
   "id": "bc2228b5-5f12-40ee-b02e-cca0f356fd28",
   "metadata": {},
   "outputs": [
    {
     "data": {
      "text/plain": [
       "array(['BLUE BUSINESS PLUS', 'HILTON ASPIRE', 'PLATINUM', 'BUSINESS GOLD',\n",
       "       'GOLD', 'BUSINESS PLATINUM'], dtype=object)"
      ]
     },
     "execution_count": 45,
     "metadata": {},
     "output_type": "execute_result"
    }
   ],
   "source": [
    "df['Card_Used'].unique()"
   ]
  },
  {
   "cell_type": "markdown",
   "id": "c8b7aace-35a8-43f0-83bc-3e5dc420e6bf",
   "metadata": {},
   "source": [
    "Convert Date column to datatime type"
   ]
  },
  {
   "cell_type": "code",
   "execution_count": 36,
   "id": "4c0d1ca7-0908-4cfd-91b4-5f5db300f2c1",
   "metadata": {},
   "outputs": [],
   "source": [
    "df['Date'] = pd.to_datetime(df['Date'], format='%m/%d/%Y')"
   ]
  },
  {
   "cell_type": "code",
   "execution_count": 38,
   "id": "2531d4a0-3890-40bf-9818-a1dbb677d4fd",
   "metadata": {},
   "outputs": [],
   "source": [
    "df = df.sort_values(by='Date', ascending=True)"
   ]
  },
  {
   "cell_type": "code",
   "execution_count": 40,
   "id": "8d78c7c1-729d-4cf9-b1d9-06734482f615",
   "metadata": {},
   "outputs": [
    {
     "data": {
      "text/html": [
       "<div>\n",
       "<style scoped>\n",
       "    .dataframe tbody tr th:only-of-type {\n",
       "        vertical-align: middle;\n",
       "    }\n",
       "\n",
       "    .dataframe tbody tr th {\n",
       "        vertical-align: top;\n",
       "    }\n",
       "\n",
       "    .dataframe thead th {\n",
       "        text-align: right;\n",
       "    }\n",
       "</style>\n",
       "<table border=\"1\" class=\"dataframe\">\n",
       "  <thead>\n",
       "    <tr style=\"text-align: right;\">\n",
       "      <th></th>\n",
       "      <th>Date</th>\n",
       "      <th>Description</th>\n",
       "      <th>Amount</th>\n",
       "      <th>Address</th>\n",
       "      <th>City</th>\n",
       "      <th>State</th>\n",
       "      <th>Zip_Code</th>\n",
       "      <th>Country</th>\n",
       "      <th>Card_Used</th>\n",
       "      <th>Category</th>\n",
       "    </tr>\n",
       "  </thead>\n",
       "  <tbody>\n",
       "    <tr>\n",
       "      <th>759</th>\n",
       "      <td>2022-09-02</td>\n",
       "      <td>AUTOPAY PAYMENT - THANK YOU</td>\n",
       "      <td>-2.88</td>\n",
       "      <td>NaN</td>\n",
       "      <td>NaN</td>\n",
       "      <td>NaN</td>\n",
       "      <td>NaN</td>\n",
       "      <td>NaN</td>\n",
       "      <td>BLUE BUSINESS PLUS</td>\n",
       "      <td>Unknown</td>\n",
       "    </tr>\n",
       "    <tr>\n",
       "      <th>489</th>\n",
       "      <td>2022-09-12</td>\n",
       "      <td>AplPay PANDA EXPRESSSAN ANTONIO         TX</td>\n",
       "      <td>11.10</td>\n",
       "      <td>834 NORTH WEST LOOP 410</td>\n",
       "      <td>SAN ANTONIO</td>\n",
       "      <td>TX</td>\n",
       "      <td>78216-5602</td>\n",
       "      <td>UNITED STATES</td>\n",
       "      <td>HILTON ASPIRE</td>\n",
       "      <td>Dining</td>\n",
       "    </tr>\n",
       "    <tr>\n",
       "      <th>488</th>\n",
       "      <td>2022-09-13</td>\n",
       "      <td>Southwest Airlines  DALLAS              TX</td>\n",
       "      <td>66.14</td>\n",
       "      <td>PO BOX 36611</td>\n",
       "      <td>DALLAS</td>\n",
       "      <td>TX</td>\n",
       "      <td>75235</td>\n",
       "      <td>UNITED STATES</td>\n",
       "      <td>HILTON ASPIRE</td>\n",
       "      <td>Travel_Airline</td>\n",
       "    </tr>\n",
       "    <tr>\n",
       "      <th>487</th>\n",
       "      <td>2022-09-13</td>\n",
       "      <td>MOBILE PAYMENT - THANK YOU</td>\n",
       "      <td>-92.05</td>\n",
       "      <td>NaN</td>\n",
       "      <td>NaN</td>\n",
       "      <td>NaN</td>\n",
       "      <td>NaN</td>\n",
       "      <td>NaN</td>\n",
       "      <td>HILTON ASPIRE</td>\n",
       "      <td>Unknown</td>\n",
       "    </tr>\n",
       "    <tr>\n",
       "      <th>486</th>\n",
       "      <td>2022-09-16</td>\n",
       "      <td>AMEX Airline Fee Reimbursement</td>\n",
       "      <td>-66.14</td>\n",
       "      <td>PO BOX 36611</td>\n",
       "      <td>DALLAS</td>\n",
       "      <td>TX</td>\n",
       "      <td>75235</td>\n",
       "      <td>UNITED STATES</td>\n",
       "      <td>HILTON ASPIRE</td>\n",
       "      <td>Travel_Airline</td>\n",
       "    </tr>\n",
       "  </tbody>\n",
       "</table>\n",
       "</div>"
      ],
      "text/plain": [
       "          Date                                 Description  Amount  \\\n",
       "759 2022-09-02                 AUTOPAY PAYMENT - THANK YOU   -2.88   \n",
       "489 2022-09-12  AplPay PANDA EXPRESSSAN ANTONIO         TX   11.10   \n",
       "488 2022-09-13  Southwest Airlines  DALLAS              TX   66.14   \n",
       "487 2022-09-13                  MOBILE PAYMENT - THANK YOU  -92.05   \n",
       "486 2022-09-16              AMEX Airline Fee Reimbursement  -66.14   \n",
       "\n",
       "                     Address         City State    Zip_Code        Country  \\\n",
       "759                      NaN          NaN   NaN         NaN            NaN   \n",
       "489  834 NORTH WEST LOOP 410  SAN ANTONIO    TX  78216-5602  UNITED STATES   \n",
       "488             PO BOX 36611       DALLAS    TX       75235  UNITED STATES   \n",
       "487                      NaN          NaN   NaN         NaN            NaN   \n",
       "486             PO BOX 36611       DALLAS    TX       75235  UNITED STATES   \n",
       "\n",
       "              Card_Used        Category  \n",
       "759  BLUE BUSINESS PLUS         Unknown  \n",
       "489       HILTON ASPIRE          Dining  \n",
       "488       HILTON ASPIRE  Travel_Airline  \n",
       "487       HILTON ASPIRE         Unknown  \n",
       "486       HILTON ASPIRE  Travel_Airline  "
      ]
     },
     "execution_count": 40,
     "metadata": {},
     "output_type": "execute_result"
    }
   ],
   "source": [
    "df.head()"
   ]
  },
  {
   "cell_type": "markdown",
   "id": "d28336a9-851b-47bb-b99e-08bc90945723",
   "metadata": {},
   "source": [
    "Initialize engine connect to MySQLWorkbench and load transactions"
   ]
  },
  {
   "cell_type": "code",
   "execution_count": 17,
   "id": "f094096c-7e8c-4830-b53e-c83702487ee7",
   "metadata": {},
   "outputs": [],
   "source": [
    "user = 'root'\n",
    "password = '*******'\n",
    "host = 'localhost:3306'\n",
    "database = 'CreditCardRecords'\n",
    "table = 'Transactions'"
   ]
  },
  {
   "cell_type": "code",
   "execution_count": 18,
   "id": "29cb9b37-49fb-4c3a-b6ad-bbd7699bf94f",
   "metadata": {},
   "outputs": [],
   "source": [
    "engine = create_engine(f'mysql+mysqlconnector://{user}:{password}@{host}/{database}')"
   ]
  },
  {
   "cell_type": "code",
   "execution_count": 19,
   "id": "9988f80f-3f3d-4c7b-bfc8-6894b407cd50",
   "metadata": {},
   "outputs": [
    {
     "data": {
      "text/plain": [
       "895"
      ]
     },
     "execution_count": 19,
     "metadata": {},
     "output_type": "execute_result"
    }
   ],
   "source": [
    "table_name = 'Transactions'  \n",
    "\n",
    "df.to_sql(table_name, con=engine, if_exists='append', index=False)"
   ]
  }
 ],
 "metadata": {
  "kernelspec": {
   "display_name": "Python 3 (ipykernel)",
   "language": "python",
   "name": "python3"
  },
  "language_info": {
   "codemirror_mode": {
    "name": "ipython",
    "version": 3
   },
   "file_extension": ".py",
   "mimetype": "text/x-python",
   "name": "python",
   "nbconvert_exporter": "python",
   "pygments_lexer": "ipython3",
   "version": "3.11.7"
  }
 },
 "nbformat": 4,
 "nbformat_minor": 5
}
